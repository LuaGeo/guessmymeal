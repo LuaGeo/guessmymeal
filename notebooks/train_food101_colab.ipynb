{
 "cells": [
  {
   "cell_type": "markdown",
   "metadata": {},
   "source": [
    "\n",
    "# Entraînement du modèle Food-101 avec YOLOv8\n",
    "(à tester sur google colab) - en construction\n",
    "\n",
    "1. Monter Google Drive\n",
    "2. Copier les données\n",
    "3. Entraîner le modèle avec GPU"
   ]
  },
  {
   "cell_type": "code",
   "execution_count": null,
   "metadata": {},
   "outputs": [],
   "source": [
    "\n",
    "# Monter Google Drive\n",
    "from google.colab import drive\n",
    "drive.mount('/content/drive')\n"
   ]
  },
  {
   "cell_type": "code",
   "execution_count": null,
   "metadata": {},
   "outputs": [],
   "source": [
    "\n",
    "# Installer ultralytics\\n\"\n",
    "!pip install ultralytics\n"
   ]
  },
  {
   "cell_type": "code",
   "execution_count": null,
   "metadata": {},
   "outputs": [],
   "source": [
    "\n",
    "# Copier les données de Drive vers Colab\n",
    "!cp -r \"/content/drive/MyDrive/[CHEMIN_VERS_VOS_DONNEES]/data/processed/food101\" /content/food101\n"
   ]
  },
  {
   "cell_type": "code",
   "execution_count": null,
   "metadata": {},
   "outputs": [],
   "source": [
    "\n",
    "from ultralytics import YOLO\n",
    "import torch\n",
    "\n",
    "# Vérifier si GPU est disponible\n",
    "print(f\\GPU disponible: {torch.cuda.is_available()}\\)\n",
    "if torch.cuda.is_available():\n",
    "    print(f\\GPU: {torch.cuda.get_device_name(0)}\\)\n",
    "\n",
    "# Charger le modèle\n",
    "model = YOLO('yolov8n.pt')\n",
    "\n",
    "# Entraînement\n",
    "results = model.train(\n",
    "    data='/content/food101/data.yaml',\n",
    "    epochs=50,\n",
    "    imgsz=640,\n",
    "    batch=32,  # Plus grand batch size avec GPU\n",
    "    patience=10,\n",
    "    save=True,\n",
    "    device=0,  # Utiliser GPU\n",
    "    project='results',\n",
    "    name='food_detector',\n",
    "    pretrained=True,\n",
    "    optimizer='Adam',\n",
    "    lr0=0.001,\n",
    "    augment=True\n",
    ")"
   ]
  },
  {
   "cell_type": "code",
   "execution_count": null,
   "metadata": {},
   "outputs": [],
   "source": [
    "\n",
    "# Copier les résultats vers Drive\n",
    "!cp -r /content/results/food_detector \"/content/drive/MyDrive/[CHEMIN_VERS_VOS_DONNEES]/results\""
   ]
  }
 ],
 "metadata": {
  "kernelspec": {
   "display_name": "base",
   "language": "python",
   "name": "python3"
  },
  "language_info": {
   "name": "python",
   "version": "3.11.4"
  }
 },
 "nbformat": 4,
 "nbformat_minor": 2
}
